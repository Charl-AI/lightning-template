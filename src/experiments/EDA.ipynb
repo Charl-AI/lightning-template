{
 "cells": [
  {
   "cell_type": "markdown",
   "source": [
    "# Exploratory data analysis"
   ],
   "metadata": {}
  },
  {
   "cell_type": "code",
   "execution_count": null,
   "source": [
    "# Here, we change the path such that we can access files from the directory above and also create a path variable\n",
    "\n",
    "import sys\n",
    "sys.path.append(\"../\") # go to parent dir\n",
    "\n",
    "from utils import get_project_root\n",
    "path = str(get_project_root())+\"/src\"\n",
    "\n",
    "path =  sys.path[0]\n",
    "root_name = \"INSERT REPO NAME\"\n",
    "path = path[:path.rfind(root_name)] + root_name + \"/\"\n",
    "if \"src\" in path:\n",
    "    raise Exception(f\"Path {path} doesn't seem right. This is probably because you forgot to change root_name above\")\n",
    "print(path)"
   ],
   "outputs": [],
   "metadata": {}
  }
 ],
 "metadata": {
  "orig_nbformat": 4,
  "language_info": {
   "name": "python",
   "version": "3.8.10"
  },
  "kernelspec": {
   "name": "python3",
   "display_name": "Python 3.8.10 64-bit ('venv': venv)"
  },
  "interpreter": {
   "hash": "ca25b3ed1b2f750250fb62d7514d7e01cab36da88fad922d05f04c3806ea6a54"
  }
 },
 "nbformat": 4,
 "nbformat_minor": 2
}