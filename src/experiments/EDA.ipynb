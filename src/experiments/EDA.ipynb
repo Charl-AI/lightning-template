{
 "cells": [
  {
   "cell_type": "markdown",
   "source": [
    "# Exploratory data analysis"
   ],
   "metadata": {}
  },
  {
   "cell_type": "code",
   "source": [
    "# Here, we change the path such that we can access files from the directory above and also create a path variable\n",
    "\n",
    "import sys\n",
    "sys.path.append(\"../\") # go to parent dir\n",
    "path =  sys.path[0]\n",
    "root_name = \"INSERT REPO NAME\"\n",
    "path = path[:path.rfind(root_name)] + root_name + \"/\"\n",
    "if "src" in path:",
    "    raise Exception(f"Path {path} seems to not be quite right, this is probably because you forgot to rename the root_name")",
    "print(path)"
   ],
   "metadata": {}
  }
 ],
 "metadata": {
  "orig_nbformat": 4,
  "language_info": {
   "name": "python"
  }
 },
 "nbformat": 4,
 "nbformat_minor": 2
}
