{
 "cells": [
  {
   "cell_type": "markdown",
   "source": [
    "# Exploratory data analysis"
   ],
   "metadata": {}
  },
  {
   "cell_type": "code",
   "execution_count": null,
   "source": [
    "# Here, we change the path such that we can access files from the directory above and also create a path variable\n",
    "\n",
    "import sys\n",
    "sys.path.append(\"../\") # go to parent dir\n",
    "path =  sys.path[0]\n",
    "root_name = \"INSERT REPO NAME\"\n",
    "path = path[:path.rfind(root_name)] + root_name + \"/\"\n",
    "if \"src\" in path:\n",
    "    raise Exception(f\"Path {path} doesn't seem right. This is probably because you forgot to change root_name above\")\n",
    "print(path)"
   ],
   "outputs": [],
   "metadata": {}
  }
 ],
 "metadata": {
  "orig_nbformat": 4,
  "language_info": {
   "name": "python"
  }
 },
 "nbformat": 4,
 "nbformat_minor": 2
}
