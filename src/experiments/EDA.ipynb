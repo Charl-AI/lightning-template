{
 "cells": [
  {
   "cell_type": "markdown",
   "source": [
    "# Exploratory data analysis"
   ],
   "metadata": {}
  },
  {
   "cell_type": "code",
   "execution_count": 1,
   "source": [
    "# This cell assumes a project structure of: project-root/src/experiments/this_notebook.ipynb\n",
    "# We append the parent directory to the system path, so now we can import modules from src\n",
    "# We also create a variable named path which points to the project root.\n",
    "\n",
    "import sys\n",
    "from pathlib import Path\n",
    "\n",
    "sys.path.append(\"../\") # go to parent dir\n",
    "path =  str(Path().resolve().parent.parent)\n",
    "\n",
    "print(path)"
   ],
   "outputs": [
    {
     "output_type": "stream",
     "name": "stdout",
     "text": [
      "/home/charlie/Documents/lightning-template\n"
     ]
    }
   ],
   "metadata": {}
  },
  {
   "cell_type": "code",
   "execution_count": null,
   "source": [],
   "outputs": [],
   "metadata": {}
  }
 ],
 "metadata": {
  "orig_nbformat": 4,
  "language_info": {
   "name": "python",
   "version": "3.8.10",
   "mimetype": "text/x-python",
   "codemirror_mode": {
    "name": "ipython",
    "version": 3
   },
   "pygments_lexer": "ipython3",
   "nbconvert_exporter": "python",
   "file_extension": ".py"
  },
  "kernelspec": {
   "name": "python3",
   "display_name": "Python 3.8.10 64-bit ('venv': venv)"
  },
  "interpreter": {
   "hash": "ca25b3ed1b2f750250fb62d7514d7e01cab36da88fad922d05f04c3806ea6a54"
  }
 },
 "nbformat": 4,
 "nbformat_minor": 2
}